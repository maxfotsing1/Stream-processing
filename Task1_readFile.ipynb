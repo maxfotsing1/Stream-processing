{
 "cells": [
  {
   "cell_type": "code",
   "execution_count": 1,
   "id": "92b699ee",
   "metadata": {},
   "outputs": [
    {
     "name": "stdout",
     "output_type": "stream",
     "text": [
      "Requirement already satisfied: pyspark in /Users/alex/opt/anaconda3/lib/python3.8/site-packages (3.4.0)\r\n",
      "Requirement already satisfied: py4j==0.10.9.7 in /Users/alex/opt/anaconda3/lib/python3.8/site-packages (from pyspark) (0.10.9.7)\r\n"
     ]
    }
   ],
   "source": [
    "!pip install pyspark"
   ]
  },
  {
   "cell_type": "code",
   "execution_count": 6,
   "id": "0ff3d153",
   "metadata": {},
   "outputs": [
    {
     "name": "stderr",
     "output_type": "stream",
     "text": [
      "23/05/21 23:43:44 WARN Utils: Service 'SparkUI' could not bind on port 4040. Attempting port 4041.\n",
      "23/05/21 23:43:44 WARN Utils: Service 'SparkUI' could not bind on port 4041. Attempting port 4042.\n",
      "                                                                                \r"
     ]
    },
    {
     "name": "stdout",
     "output_type": "stream",
     "text": [
      "+-----------+-------------+------------------+\n",
      "|   Device 1|     Device 2|       correlation|\n",
      "+-----------+-------------+------------------+\n",
      "|Count CAT17| Count CVT387|0.7985076940355107|\n",
      "|Count CAT17|  Count CEK31|0.7968845237687054|\n",
      "|Count CAT17| Count CJE181|0.7787727867860248|\n",
      "|Count CAT17| Count CEV011|0.7765231941561195|\n",
      "|Count CAT17| Count CB1699|0.7269432658044818|\n",
      "|Count CAT17| Count CLW239|0.6957530123207557|\n",
      "|Count CAT17|  Count CJM90|0.6932421809590414|\n",
      "|Count CAT17| Count CEK049|0.6915863523295104|\n",
      "|Count CAT17| Count CB2105|0.6794805640433301|\n",
      "|Count CAT17| Count CEE016|0.6661083195572555|\n",
      "|Count CAT17| Count CB1599|0.6493895044241346|\n",
      "|Count CAT17|Count CB02411|0.6309373796259062|\n",
      "|Count CAT17| Count CB1142|0.6054706299442999|\n",
      "|Count CAT17| Count CB1143|0.5555503531628565|\n",
      "|Count CAT17| Count COM205|0.5489651275938107|\n",
      "|Count CAT17|  Count CEK18|0.4468756267881279|\n",
      "|Count CAT17| Count CB1101|0.1663513465028617|\n",
      "+-----------+-------------+------------------+\n",
      "\n",
      "Time: 8\n"
     ]
    }
   ],
   "source": [
    "from pyspark.sql import SparkSession\n",
    "from pyspark.sql.functions import avg, col, sqrt\n",
    "from time import time\n",
    "\n",
    "time_start = time()\n",
    "\n",
    "spark = SparkSession.builder.appName(\"Read CSV\").getOrCreate()\n",
    "\n",
    "df = spark.read.format(\"csv\").option(\"header\", \"true\").option(\"inferSchema\", \"true\").load(\"data.csv\")\n",
    "\n",
    "column_names = df.columns[2:][::2]\n",
    "\n",
    "mean_dict = {}\n",
    "for column in column_names:\n",
    "    mean_dict[column] = df.select(avg(column)).first()[0]\n",
    "\n",
    "correlation_data = []\n",
    "\n",
    "for i, column1 in enumerate(column_names[:1]):\n",
    "    for column2 in column_names[i+1:]:\n",
    "        mean1 = mean_dict[column1]\n",
    "        mean2 = mean_dict[column2]\n",
    "\n",
    "        numerator = avg((df[column1] - mean1) * (df[column2] - mean2))\n",
    "        denominator = sqrt(avg((df[column1] - mean1)**2) * avg((df[column2] - mean2)**2))\n",
    "        correlation = df.select(numerator / denominator).first()[0]\n",
    "\n",
    "        correlation_data.append((column1, column2, correlation))\n",
    "\n",
    "result_df = spark.createDataFrame(correlation_data, [\"Device 1\", \"Device 2\", \"correlation\"]) \\\n",
    "                .orderBy(\"correlation\", ascending=False)\n",
    "\n",
    "result_df.show()\n",
    "\n",
    "spark.stop()\n",
    "print('Time: {}'.format(int(time() - time_start)))\n"
   ]
  },
  {
   "cell_type": "code",
   "execution_count": null,
   "id": "8a22926b",
   "metadata": {},
   "outputs": [],
   "source": []
  }
 ],
 "metadata": {
  "kernelspec": {
   "display_name": "PyCharm (FLAIR_PHMUseCase)",
   "language": "python",
   "name": "pycharm-2af60d71"
  },
  "language_info": {
   "codemirror_mode": {
    "name": "ipython",
    "version": 3
   },
   "file_extension": ".py",
   "mimetype": "text/x-python",
   "name": "python",
   "nbconvert_exporter": "python",
   "pygments_lexer": "ipython3",
   "version": "3.8.8"
  }
 },
 "nbformat": 4,
 "nbformat_minor": 5
}
